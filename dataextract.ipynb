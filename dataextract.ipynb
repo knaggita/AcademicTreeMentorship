{
 "cells": [
  {
   "cell_type": "code",
   "execution_count": 1,
   "id": "d3eb6750-0de2-4721-8330-21e944895e5e",
   "metadata": {
    "tags": []
   },
   "outputs": [],
   "source": [
    "import pandas as pd\n",
    "import gzip\n",
    "import os"
   ]
  },
  {
   "cell_type": "code",
   "execution_count": 2,
   "id": "f09169b2-f8d1-4c86-bd07-04e400ea7963",
   "metadata": {
    "tags": []
   },
   "outputs": [],
   "source": [
    "files = {\n",
    "    \"mentorship\": \"./original/mentorship.csv\",\n",
    "    \"connect\": \"./original/connect.csv\",\n",
    "    \"people\": \"./original/people.csv\",\n",
    "}\n",
    "\n",
    "output_dir = \"./extracted\"\n",
    "os.makedirs(output_dir, exist_ok=True)\n",
    "\n",
    "\n",
    "for name, path in files.items():\n",
    "    with open(path, \"rb\") as fd:\n",
    "        with gzip.GzipFile(fileobj=fd) as gz:\n",
    "            df = pd.read_csv(gz, low_memory=False)\n",
    "\n",
    "    df.to_csv(os.path.join(output_dir, f\"{name}.csv\"), index=False)\n"
   ]
  },
  {
   "cell_type": "code",
   "execution_count": null,
   "id": "921ad62b-d1ee-4025-8fc2-fc35bbaa0729",
   "metadata": {},
   "outputs": [],
   "source": []
  }
 ],
 "metadata": {
  "kernelspec": {
   "display_name": "Python 3 (ipykernel)",
   "language": "python",
   "name": "python3"
  },
  "language_info": {
   "codemirror_mode": {
    "name": "ipython",
    "version": 3
   },
   "file_extension": ".py",
   "mimetype": "text/x-python",
   "name": "python",
   "nbconvert_exporter": "python",
   "pygments_lexer": "ipython3",
   "version": "3.9.18"
  }
 },
 "nbformat": 4,
 "nbformat_minor": 5
}
